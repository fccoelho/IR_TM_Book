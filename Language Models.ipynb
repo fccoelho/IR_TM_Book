{
 "cells": [
  {
   "cell_type": "markdown",
   "metadata": {},
   "source": [
    "# Modelos de Linguagem\n",
    "\n",
    "Modelos de Linguagem envolvem a estimação de probabilidades condicionais de ocorrência de um termo dado um contexto. \n",
    "$$P_{bi}(t_1t_2t_3t_4) = P(t_1)P(t_2|t_1)P(t_3|t_1t_2)P(t_4|t_1t_2t_3)$$"
   ]
  },
  {
   "cell_type": "code",
   "execution_count": 7,
   "metadata": {
    "collapsed": false
   },
   "outputs": [
    {
     "name": "stdout",
     "output_type": "stream",
     "text": [
      "Populating the interactive namespace from numpy and matplotlib\n"
     ]
    }
   ],
   "source": [
    "import nltk\n",
    "import string\n",
    "from nltk.corpus import machado\n",
    "from nltk.corpus import stopwords\n",
    "%pylab inline"
   ]
  },
  {
   "cell_type": "markdown",
   "metadata": {},
   "source": [
    "### Modelo Unigrama  (bag of words)\n",
    " neste modelo, a ordem das palavras não importa. \n",
    " $$P_{bi}(t_1t_2t_3t_4) = P(t_1)P(t_2)P(t_3)P(t_4)$$"
   ]
  },
  {
   "cell_type": "code",
   "execution_count": 8,
   "metadata": {
    "collapsed": false
   },
   "outputs": [
    {
     "data": {
      "text/plain": [
       "[('\\x97', 25386),\n",
       " ('é', 22286),\n",
       " ('--', 9643),\n",
       " ('...', 8180),\n",
       " ('disse', 6444),\n",
       " ('ser', 4831),\n",
       " ('casa', 4821),\n",
       " ('tempo', 4339),\n",
       " ('ainda', 4226),\n",
       " ('coisa', 3999),\n",
       " ('dia', 3959),\n",
       " ('olhos', 3936),\n",
       " ('tudo', 3879),\n",
       " ('lo', 3726),\n",
       " ('outro', 3652),\n",
       " ('nada', 3648),\n",
       " ('tão', 3592),\n",
       " ('outra', 3553),\n",
       " ('D', 3495),\n",
       " ('dois', 3494)]"
      ]
     },
     "execution_count": 8,
     "metadata": {},
     "output_type": "execute_result"
    }
   ],
   "source": [
    "swu = stopwords.words('portuguese') + list (string.punctuation)\n",
    "wordgen = (word for word in machado.words() if word.lower() not in swu)\n",
    "fd = nltk.FreqDist(wordgen)\n",
    "fd.most_common(20)"
   ]
  },
  {
   "cell_type": "code",
   "execution_count": 9,
   "metadata": {
    "collapsed": false
   },
   "outputs": [],
   "source": [
    "x,y = zip(*fd.most_common(20))"
   ]
  },
  {
   "cell_type": "code",
   "execution_count": 10,
   "metadata": {
    "collapsed": false
   },
   "outputs": [
    {
     "data": {
      "image/png": "[encoded data removed]",
      "text/plain": [
       "<matplotlib.figure.Figure at 0x7f4960399438>"
      ]
     },
     "metadata": {},
     "output_type": "display_data"
    }
   ],
   "source": [
    "barh(bottom=range(len(x)), width=y);\n",
    "ax = gca()\n",
    "ax.set(yticks=range(len(x)),yticklabels=x);\n",
    "xlabel('frequência');"
   ]
  },
  {
   "cell_type": "markdown",
   "metadata": {},
   "source": [
    "### Bigramas\n",
    "Uma alternativa ao modelo bag-of-words onde as probabilidades são independentes, é o modelo bigrama. onde calculamos a probabilidade de ocorrência de uma palavra condicionada à ocorrência da anterior.\n",
    "$$P_{bi}(t_1t_2t_3t_4) = P(t_1)P(t_2|t_1)P(t_3|t_2)P(t_4|t_3)$$\n",
    "nltk.ConditionalFreqDist é um estimador de probabilidades condicionais. Dada uma lista de bigramas, para cada palavra no vocabulário, ele calculará uma distribuição de frequências para a próxima palavra."
   ]
  },
  {
   "cell_type": "code",
   "execution_count": 11,
   "metadata": {
    "collapsed": true
   },
   "outputs": [],
   "source": [
    "wordgen = (word for word in machado.words() )#if word.lower() not in swu)\n",
    "machado_2gram = nltk.ConditionalFreqDist(nltk.bigrams(wordgen))"
   ]
  },
  {
   "cell_type": "markdown",
   "metadata": {},
   "source": [
    "*conditions()* retorna as palavras para as quais temos distribuições condicionais construídas."
   ]
  },
  {
   "cell_type": "code",
   "execution_count": 12,
   "metadata": {
    "collapsed": false,
    "scrolled": true
   },
   "outputs": [
    {
     "data": {
      "text/plain": [
       "['policia',\n",
       " 'abat',\n",
       " 'victa',\n",
       " 'deveres',\n",
       " 'dinástica',\n",
       " 'consistiam',\n",
       " 'frenéticos',\n",
       " 'Diga',\n",
       " 'bolsinha',\n",
       " 'federação']"
      ]
     },
     "execution_count": 12,
     "metadata": {},
     "output_type": "execute_result"
    }
   ],
   "source": [
    "machado_2gram.conditions()[:10]"
   ]
  },
  {
   "cell_type": "markdown",
   "metadata": {},
   "source": [
    "Podemos obter a contagem de palavras que se seguem à uma palavra específica."
   ]
  },
  {
   "cell_type": "code",
   "execution_count": 13,
   "metadata": {
    "collapsed": false
   },
   "outputs": [
    {
     "data": {
      "text/plain": [
       "FreqDist({'-': 1,\n",
       "          'a': 3,\n",
       "          'aquele': 1,\n",
       "          'as': 1,\n",
       "          'com': 1,\n",
       "          'de': 1,\n",
       "          'desde': 2,\n",
       "          'em': 2,\n",
       "          'então': 1,\n",
       "          'esse': 1,\n",
       "          'interinamente': 1,\n",
       "          'mais': 1,\n",
       "          'na': 1,\n",
       "          'nela': 3,\n",
       "          'nele': 1,\n",
       "          'no': 1,\n",
       "          'o': 4,\n",
       "          'outra': 1,\n",
       "          'realmente': 1,\n",
       "          'sobre': 4,\n",
       "          'um': 3,\n",
       "          'uma': 1})"
      ]
     },
     "execution_count": 13,
     "metadata": {},
     "output_type": "execute_result"
    }
   ],
   "source": [
    "machado_2gram['exercia']"
   ]
  },
  {
   "cell_type": "markdown",
   "metadata": {},
   "source": [
    "Ou podemos obter a Probabilidade por máxima verossimilhança:"
   ]
  },
  {
   "cell_type": "code",
   "execution_count": 14,
   "metadata": {
    "collapsed": false
   },
   "outputs": [],
   "source": [
    "machado_2gram_cp = nltk.ConditionalProbDist(machado_2gram, nltk.MLEProbDist)"
   ]
  },
  {
   "cell_type": "code",
   "execution_count": 15,
   "metadata": {
    "collapsed": false
   },
   "outputs": [
    {
     "data": {
      "text/plain": [
       "dict_keys(['realmente', 'um', 'a', 'interinamente', 'em', 'na', 'uma', '-', 'as', 'o', 'esse', 'de', 'desde', 'então', 'nele', 'outra', 'sobre', 'nela', 'com', 'aquele', 'mais', 'no'])"
      ]
     },
     "execution_count": 15,
     "metadata": {},
     "output_type": "execute_result"
    }
   ],
   "source": [
    "cp = machado_2gram_cp['exercia']\n",
    "cp.samples()"
   ]
  },
  {
   "cell_type": "code",
   "execution_count": 16,
   "metadata": {
    "collapsed": false
   },
   "outputs": [
    {
     "data": {
      "text/plain": [
       "0.1111111111111111"
      ]
     },
     "execution_count": 16,
     "metadata": {},
     "output_type": "execute_result"
    }
   ],
   "source": [
    "cp.prob('sobre')"
   ]
  },
  {
   "cell_type": "code",
   "execution_count": 17,
   "metadata": {
    "collapsed": false
   },
   "outputs": [],
   "source": [
    "def gera_texto(palavra_inicial, cpd,numero=50):\n",
    "    \n",
    "    w = palavra_inicial\n",
    "    texto = w\n",
    "    for i in range(numero):\n",
    "        w2 = cpd[w].generate()\n",
    "        texto += ' ' + w2\n",
    "        w = w2\n",
    "    return texto"
   ]
  },
  {
   "cell_type": "code",
   "execution_count": 18,
   "metadata": {
    "collapsed": false
   },
   "outputs": [
    {
     "data": {
      "text/plain": [
       "'Cresceu ainda hoje e conclui ? VULCANO É cruel , meias ... Pedro é ? \\x97 Ora essa esperança . Paulo . Excia . Maria Benedita . Tendo o primeiro ocorre , quando um do século não acreditava firmemente a Com os olhos da filha , e adorados que até a'"
      ]
     },
     "execution_count": 18,
     "metadata": {},
     "output_type": "execute_result"
    }
   ],
   "source": [
    "gera_texto('Cresceu',machado_2gram_cp)"
   ]
  },
  {
   "cell_type": "code",
   "execution_count": null,
   "metadata": {
    "collapsed": true
   },
   "outputs": [],
   "source": []
  }
 ],
 "metadata": {
  "kernelspec": {
   "display_name": "Python 3",
   "language": "python",
   "name": "python3"
  },
  "language_info": {
   "codemirror_mode": {
    "name": "ipython",
    "version": 3
   },
   "file_extension": ".py",
   "mimetype": "text/x-python",
   "name": "python",
   "nbconvert_exporter": "python",
   "pygments_lexer": "ipython3",
   "version": "3.5.1+"
  }
 },
 "nbformat": 4,
 "nbformat_minor": 0
}
